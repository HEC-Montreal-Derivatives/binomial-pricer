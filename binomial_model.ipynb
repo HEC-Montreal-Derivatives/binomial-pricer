{
 "cells": [
  {
   "cell_type": "code",
   "execution_count": 384,
   "metadata": {},
   "outputs": [],
   "source": [
    "import numpy as np\n",
    "from math import log10, exp, sqrt\n",
    "from scipy.stats import binom\n",
    "from copy import deepcopy\n",
    "\n",
    "def generate_state_key_names(state_index):\n",
    "    state_letters = ['U', 'D']\n",
    "        \n",
    "    if state_index == 0:\n",
    "        return ['State 0']\n",
    "    else:\n",
    "        state_digits = int(log10(state_index))+1\n",
    "        state_range = range(1, state_index + 1)\n",
    "        state_pattern_U = \"{{0:0{0:d}d}}\".format(state_digits)\n",
    "        state_pattern_D = \"{{1:0{0:d}d}}\".format(state_digits)\n",
    "        state_pattern = \"State U{0:s}-D{1:s}\".format(state_pattern_U, state_pattern_D)\n",
    "        state_labels = [state_pattern.format(state_index - num_d, num_d) for num_d in range(state_index+1)]\n",
    "        \n",
    "        return state_labels"
   ]
  },
  {
   "cell_type": "code",
   "execution_count": 294,
   "metadata": {},
   "outputs": [],
   "source": [
    "class tree_trunk:\n",
    "    def __init__(self, N_steps, state_names):\n",
    "        # Constructor\n",
    "        \n",
    "        # Define some self-facts\n",
    "        self.N_steps = N_steps\n",
    "        self.state_names = state_names\n",
    "        \n",
    "        # Period range\n",
    "        period_numbers = range(N_steps + 1)\n",
    "        period_names = ['Period %d' % x for x in period_numbers]\n",
    "        \n",
    "        # Initialize dict\n",
    "        self.trunk = dict.fromkeys(period_names)\n",
    "        \n",
    "        # Create state-level dict\n",
    "        state_dict = dict.fromkeys(state_names)\n",
    "        \n",
    "        # Fill states\n",
    "        trunk_keys = list(self.trunk.keys())\n",
    "        for pnum in period_numbers:\n",
    "            state_keys = generate_state_key_names(pnum)\n",
    "            self.trunk[trunk_keys[pnum]] = dict.fromkeys(state_keys)\n",
    "            for state_key in self.trunk[trunk_keys[pnum]].keys():\n",
    "                self.trunk[trunk_keys[pnum]][state_key] = state_dict.copy()\n",
    "            \n",
    "    def print_leaf(self, step_index, leaf_index):\n",
    "        # Printing of information about single leaf\n",
    "        trunk_keys = list(self.trunk.keys())\n",
    "        target_key = trunk_keys[step_index]\n",
    "        branch_keys = list(self.trunk[target_key].keys())\n",
    "        target_branch_key = branch_keys[leaf_index]\n",
    "        \n",
    "        print(\"In {0:s}\".format(target_branch_key))\n",
    "        print(self.trunk[target_key][target_branch_key])\n",
    "            \n",
    "    \n",
    "    def print(self, step_indexes):\n",
    "        # Reasonably pretty print of tree leafs at selected steps\n",
    "        trunk_keys = list(self.trunk.keys())\n",
    "        for step_index in step_indexes:\n",
    "            target_key = trunk_keys[step_index]\n",
    "            print(\"--------------------------------------------------------------------\")\n",
    "            print(\"In Tree At {0:s}:\".format(target_key))\n",
    "            print(\"--------------------------------------------------------------------\")\n",
    "            for state_idx in range(step_index+1):\n",
    "                self.print_leaf(step_index, state_idx)\n",
    "                print(\"\\n\")"
   ]
  },
  {
   "cell_type": "code",
   "execution_count": 295,
   "metadata": {},
   "outputs": [],
   "source": [
    "zz = tree_trunk(3, [\"Stock\", \"RN Probability\"])"
   ]
  },
  {
   "cell_type": "code",
   "execution_count": 296,
   "metadata": {},
   "outputs": [
    {
     "name": "stdout",
     "output_type": "stream",
     "text": [
      "--------------------------------------------------------------------\n",
      "In Tree At Period 0:\n",
      "--------------------------------------------------------------------\n",
      "In State 0\n",
      "{'Stock': None, 'RN Probability': None}\n",
      "\n",
      "\n",
      "--------------------------------------------------------------------\n",
      "In Tree At Period 1:\n",
      "--------------------------------------------------------------------\n",
      "In State U1-D0\n",
      "{'Stock': None, 'RN Probability': None}\n",
      "\n",
      "\n",
      "In State U0-D1\n",
      "{'Stock': None, 'RN Probability': None}\n",
      "\n",
      "\n"
     ]
    }
   ],
   "source": [
    "zz.print([0, 1])"
   ]
  },
  {
   "cell_type": "code",
   "execution_count": 458,
   "metadata": {},
   "outputs": [],
   "source": [
    "class binomial_tree:\n",
    "    def __init__(self, Stock_0, N_steps, h_time_step_length, r_int_rate, d_div_rate, s_volatility):\n",
    "        \n",
    "        # Save model parameters to self\n",
    "        self.N_steps = N_steps\n",
    "        self.h_time_step_length = h_time_step_length\n",
    "        self.r_int_rate = r_int_rate\n",
    "        self.d_div_rate = d_div_rate\n",
    "        self.s_volatility = s_volatility\n",
    "        \n",
    "        # Calculate up- and down- factors as in Slide 40 of Deck 2 (forward tree)\n",
    "        u_fctr = exp((r_int_rate - d_div_rate) * h_time_step_length + s_volatility * sqrt(h_time_step_length))\n",
    "        d_fctr = exp((r_int_rate - d_div_rate) * h_time_step_length - s_volatility * sqrt(h_time_step_length))\n",
    "        \n",
    "        self.u_fctr = u_fctr\n",
    "        self.d_fctr = d_fctr\n",
    "        \n",
    "        # Calculate RN probablity\n",
    "        rn_probability = exp((r_int_rate - d_div_rate) * h_time_step_length) - d_fctr\n",
    "        rn_probability = rn_probability / (u_fctr - d_fctr)\n",
    "        \n",
    "        self.rn_pstar = rn_probability\n",
    "        \n",
    "        # Tree state names\n",
    "        state_names = [\"Stock\", \"Probability of State\", \"Multi-Period Discount Factor\", \"Single-Period Discount Factor\"]\n",
    "        \n",
    "        # Create tree trunk\n",
    "        self.tree = tree_trunk(N_steps, state_names)\n",
    "        \n",
    "        ## Fill tree trunk\n",
    "        # Multi-Period Discount Factors\n",
    "        discount_factors = np.linspace(N_steps, 0, N_steps + 1)\n",
    "        discount_factors = np.exp(- discount_factors * r_int_rate * h_time_step_length)\n",
    "        \n",
    "        self.discount_factors = discount_factors\n",
    "        \n",
    "        time_index = 0\n",
    "        for time_key in self.tree.trunk.keys():\n",
    "            loc_df = discount_factors[time_index]\n",
    "            time_index = time_index + 1\n",
    "            for state_key in self.tree.trunk[time_key].keys():\n",
    "                self.tree.trunk[time_key][state_key][\"Multi-Period Discount Factor\"] = loc_df\n",
    "                self.tree.trunk[time_key][state_key][\"Single-Period Discount Factor\"] = discount_factors[-2]\n",
    "                \n",
    "        # Save Multi-Period DFs to DataFrame\n",
    "        \n",
    "        # Risk-neutral probabilities of states\n",
    "        time_index = 0\n",
    "        for time_key in self.tree.trunk.keys():\n",
    "            loc_probs = binom.pmf(range(time_index+1), time_index, rn_probability)\n",
    "            time_index = time_index + 1\n",
    "            state_index = 0\n",
    "            for state_key in self.tree.trunk[time_key].keys():\n",
    "                self.tree.trunk[time_key][state_key][\"Probability of State\"] = loc_probs[state_index]\n",
    "                state_index = state_index + 1\n",
    "                \n",
    "        # Save RN probabilities to DataFrame\n",
    "        \n",
    "        # Stock price values in states\n",
    "        time_index = 0\n",
    "        for time_key in self.tree.trunk.keys():\n",
    "            ud_fctrs = [(u_fctr ** (time_index - num_d)) * (d_fctr ** num_d) for num_d in range(time_index+1)]\n",
    "            time_index = time_index + 1\n",
    "            state_index = 0\n",
    "            for state_key in self.tree.trunk[time_key].keys():\n",
    "                self.tree.trunk[time_key][state_key][\"Stock\"] = Stock_0 * ud_fctrs[state_index]\n",
    "                state_index = state_index + 1\n",
    "        \n",
    "        # Save stock prices to DataFrame\n",
    "        \n",
    "    def copy(self):\n",
    "        return deepcopy(self)\n",
    "        \n",
    "    def pricing(self, derivative_product):\n",
    "        \n",
    "        # Create a copy of own dictionary\n",
    "        derivative_tree = deepcopy(self.tree)\n",
    "        \n",
    "        # Go through the tree in reverse\n",
    "        pricing_start_periods = list(derivative_tree.trunk.keys())[:-1]\n",
    "        pricing_start_periods.reverse()\n",
    "        pricing_end_periods = list(derivative_tree.trunk.keys())[1:]\n",
    "        pricing_end_periods.reverse()\n",
    "        \n",
    "        for kk in pricing_end_periods:\n",
    "            print(kk)\n",
    "        "
   ]
  },
  {
   "cell_type": "code",
   "execution_count": 459,
   "metadata": {},
   "outputs": [],
   "source": [
    "zz = binomial_tree(100, 4, 0.25, 0.02, 0.01, 0.4)"
   ]
  },
  {
   "cell_type": "code",
   "execution_count": 460,
   "metadata": {},
   "outputs": [],
   "source": [
    "class derivative:\n",
    "    def __init__(self, payoff_function, exercise_type = \"European\"):\n",
    "        self.payoff_function = payoff_function\n",
    "        self.exercise_type = exercise_type\n",
    "        self.pricing_tree = None"
   ]
  },
  {
   "cell_type": "code",
   "execution_count": 461,
   "metadata": {},
   "outputs": [
    {
     "name": "stdout",
     "output_type": "stream",
     "text": [
      "['Period 3', 'Period 2', 'Period 1', 'Period 0']\n",
      "Period 4\n",
      "Period 3\n",
      "Period 2\n",
      "Period 1\n"
     ]
    }
   ],
   "source": [
    "zz.pricing(a)"
   ]
  },
  {
   "cell_type": "code",
   "execution_count": null,
   "metadata": {},
   "outputs": [],
   "source": []
  }
 ],
 "metadata": {
  "kernelspec": {
   "display_name": "Python 3",
   "language": "python",
   "name": "python3"
  },
  "language_info": {
   "codemirror_mode": {
    "name": "ipython",
    "version": 3
   },
   "file_extension": ".py",
   "mimetype": "text/x-python",
   "name": "python",
   "nbconvert_exporter": "python",
   "pygments_lexer": "ipython3",
   "version": "3.8.3"
  }
 },
 "nbformat": 4,
 "nbformat_minor": 4
}
